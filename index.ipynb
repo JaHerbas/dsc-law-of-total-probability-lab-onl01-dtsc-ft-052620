{
 "cells": [
  {
   "cell_type": "markdown",
   "metadata": {},
   "source": [
    "# Partitioning and Law of Total Probability - Lab\n",
    "\n",
    "## Introduction \n",
    "In this lab, you'll practice your knowledge of the law of total probability. In probability theory, the law (or formula) of total probability is a fundamental rule relating **marginal probabilities** to **conditional probabilities**.\n",
    "\n",
    "## Objectives\n",
    "\n",
    "You will be able to:\n",
    "\n",
    "* Differentiate between independent and dependent events\n",
    "* Perform partitioning based on known and unknown probabilities to solve a problem"
   ]
  },
  {
   "cell_type": "markdown",
   "metadata": {},
   "source": [
    "## Exercise 1\n",
    "Imagine you have two hats: one has 4 red balls and 6 green balls, the other has 6 red and 4 green. We toss a fair coin, if heads, you will pick a random ball from the first hat, if tails you will pick one from the second hat. \n",
    "\n",
    "What is the probability of getting a red ball?"
   ]
  },
  {
   "cell_type": "code",
   "execution_count": 9,
   "metadata": {
    "ExecuteTime": {
     "end_time": "2020-06-25T08:30:35.233581Z",
     "start_time": "2020-06-25T08:30:35.228999Z"
    }
   },
   "outputs": [
    {
     "data": {
      "text/plain": [
       "0.5"
      ]
     },
     "execution_count": 9,
     "metadata": {},
     "output_type": "execute_result"
    }
   ],
   "source": [
    "P_CoinH = 0.5\n",
    "P_RedBall_H1 = 0.4\n",
    "\n",
    "P_Red_Ball_toss1 = 0.5*0.4\n",
    "\n",
    "P_CoinT = 0.5\n",
    "P_RedBall_H2 = 0.6\n",
    "P_Red_Ball_toss2 = 0.5*0.6\n",
    "\n",
    "Prob_RedBall = P_Red_Ball_toss1 + P_Red_Ball_toss2\n",
    "Prob_RedBall\n"
   ]
  },
  {
   "cell_type": "markdown",
   "metadata": {},
   "source": [
    "## Exercise 2\n",
    "In games where at least one goal is made, a soccer team wins 60% of its games when it scores the first goal, and 10% of its games when the opposing team \n",
    "scores first. \n",
    "\n",
    "If the team scores the first goal about 30% of the time, what fraction of the games does it win?"
   ]
  },
  {
   "cell_type": "code",
   "execution_count": 12,
   "metadata": {
    "ExecuteTime": {
     "end_time": "2020-06-25T08:35:00.542200Z",
     "start_time": "2020-06-25T08:35:00.538258Z"
    }
   },
   "outputs": [
    {
     "data": {
      "text/plain": [
       "0.25"
      ]
     },
     "execution_count": 12,
     "metadata": {},
     "output_type": "execute_result"
    }
   ],
   "source": [
    "P_with_1G_W = 0.6 # 60% games when they score first\n",
    "P_with_0G_W = 0.1 # 10% game when they score second\n",
    "\n",
    "P_with_1stG = 0.3 # they score first on 30% of games\n",
    "\n",
    "P_with_2ndG = 0.7\n",
    "\n",
    "Games_W = P_with_1G_W*P_with_1stG + P_with_0G_W*P_with_2ndG\n",
    "Games_W"
   ]
  },
  {
   "cell_type": "markdown",
   "metadata": {},
   "source": [
    "## Exercise 3"
   ]
  },
  {
   "cell_type": "markdown",
   "metadata": {},
   "source": [
    "In Europe, except for regular gas, cars often run on diesel as well. At a gas station in Paris; \n",
    "\n",
    "\n",
    "* 40% of the customers fill up with diesel (event G1) \n",
    "* 35% with gas \"Super 95\" (event G2)\n",
    "* 25% with gas \"Super 98\" (event G3). \n",
    "\n",
    "\n",
    "* 30% of the customers who buy diesel fill their tank completely (event F). \n",
    "* For \"Super 95\" and \"Super 98\", these numbers are  60% and 50%, respectively.\n",
    "\n",
    "\n",
    "- Compute the probability that the next customer completely fills their tank and buys Super 95. \n",
    "- Compute the probability that the next customer completely fills their tank\n",
    "- Given that the next customer fills their tank completely, compute the probability that they bought diesel. \n",
    "\n",
    "Hint: Consult the theorems for conditional probability, check for dependence or independence of events"
   ]
  },
  {
   "cell_type": "code",
   "execution_count": 14,
   "metadata": {
    "ExecuteTime": {
     "end_time": "2020-06-25T08:41:40.815056Z",
     "start_time": "2020-06-25T08:41:40.812206Z"
    }
   },
   "outputs": [],
   "source": [
    "G1 = 0.4\n",
    "G2 = 0.35\n",
    "G3 = 0.25\n",
    "\n",
    "G1_fill_tank = 0.3\n",
    "G2_fill_tank = 0.6\n",
    "G3_fill_tank = 0.5"
   ]
  },
  {
   "cell_type": "code",
   "execution_count": 16,
   "metadata": {
    "ExecuteTime": {
     "end_time": "2020-06-25T08:41:54.625719Z",
     "start_time": "2020-06-25T08:41:54.622300Z"
    }
   },
   "outputs": [
    {
     "data": {
      "text/plain": [
       "0.21"
      ]
     },
     "execution_count": 16,
     "metadata": {},
     "output_type": "execute_result"
    }
   ],
   "source": [
    "# Probability that next customer completetly fills their tank and buys Super95\n",
    "\n",
    "Prob_next_costumer_G2 = G2*G2_fill_tank\n",
    "Prob_next_costumer_G2"
   ]
  },
  {
   "cell_type": "code",
   "execution_count": 20,
   "metadata": {
    "ExecuteTime": {
     "end_time": "2020-06-25T08:46:42.744839Z",
     "start_time": "2020-06-25T08:46:42.741067Z"
    }
   },
   "outputs": [
    {
     "data": {
      "text/plain": [
       "0.45499999999999996"
      ]
     },
     "execution_count": 20,
     "metadata": {},
     "output_type": "execute_result"
    }
   ],
   "source": [
    "# Probability that the next costumer completely fills their tank\n",
    "\n",
    "P_next_customer_fills_tank = G1*G1_fill_tank + G2*G2_fill_tank + G3*G3_fill_tank\n",
    "P_next_customer_fills_tank"
   ]
  },
  {
   "cell_type": "code",
   "execution_count": 21,
   "metadata": {
    "ExecuteTime": {
     "end_time": "2020-06-25T08:46:43.105804Z",
     "start_time": "2020-06-25T08:46:43.102257Z"
    }
   },
   "outputs": [
    {
     "data": {
      "text/plain": [
       "0.26373626373626374"
      ]
     },
     "execution_count": 21,
     "metadata": {},
     "output_type": "execute_result"
    }
   ],
   "source": [
    "# Given that the next customer fills their tank completely, compute the probability that they bought Diesel\n",
    "P_fill_diesel = G1*G1_fill_tank\n",
    "P_Bought_Diesel = P_fill_diesel/P_next_customer_fills_tank\n",
    "P_Bought_Diesel"
   ]
  },
  {
   "cell_type": "markdown",
   "metadata": {},
   "source": [
    "## Exercise 4"
   ]
  },
  {
   "cell_type": "markdown",
   "metadata": {},
   "source": [
    "United Airlines operates flights from JFK to Amsterdam, to Brussels, and to Copenhagen. As you may know, flights are overbooked fairly often. Let's denote the probability of the flight to Amsterdam being overbooked equal to 40%, the probability of the flight to Brussels being overbooked equal to 25%, and the probability of the flight to Copenhagen being overbooked equal to 35%. You can assume that these events of overbooking are independent events."
   ]
  },
  {
   "cell_type": "markdown",
   "metadata": {},
   "source": [
    "- Compute the probability that all the flights are overbooked.\n",
    "- Compute the probability of having at least one flight which is not overbooked.\n",
    "- Compute the probability that exactly one flight is overbooked."
   ]
  },
  {
   "cell_type": "code",
   "execution_count": 22,
   "metadata": {
    "ExecuteTime": {
     "end_time": "2020-06-25T08:50:52.658370Z",
     "start_time": "2020-06-25T08:50:52.655666Z"
    }
   },
   "outputs": [],
   "source": [
    "P_OFlight_Ams = 0.4\n",
    "P_OFlight_Bru = 0.25\n",
    "P_OFlight_Cop = 0.35"
   ]
  },
  {
   "cell_type": "code",
   "execution_count": 24,
   "metadata": {
    "ExecuteTime": {
     "end_time": "2020-06-25T08:53:34.864911Z",
     "start_time": "2020-06-25T08:53:34.861477Z"
    }
   },
   "outputs": [
    {
     "data": {
      "text/plain": [
       "0.034999999999999996"
      ]
     },
     "execution_count": 24,
     "metadata": {},
     "output_type": "execute_result"
    }
   ],
   "source": [
    "# Probability that all flights are overbooked\n",
    "\n",
    "P_All_OvBooked = P_OFlight_Ams * P_OFlight_Bru * P_OFlight_Cop\n",
    "P_All_OvBooked"
   ]
  },
  {
   "cell_type": "code",
   "execution_count": 25,
   "metadata": {
    "ExecuteTime": {
     "end_time": "2020-06-25T08:54:45.297471Z",
     "start_time": "2020-06-25T08:54:45.294010Z"
    }
   },
   "outputs": [
    {
     "data": {
      "text/plain": [
       "0.965"
      ]
     },
     "execution_count": 25,
     "metadata": {},
     "output_type": "execute_result"
    }
   ],
   "source": [
    "# Probabilithy of at least one flight not overbooked\n",
    "P_1F_Not_OBooked = 1 - P_All_OvBooked\n",
    "P_1F_Not_OBooked"
   ]
  },
  {
   "cell_type": "code",
   "execution_count": 26,
   "metadata": {
    "ExecuteTime": {
     "end_time": "2020-06-25T08:59:05.982268Z",
     "start_time": "2020-06-25T08:59:05.979141Z"
    }
   },
   "outputs": [],
   "source": [
    "# probability that exactly 1 flight is overbooked\n",
    "P_1F_Ams_OBooked = 0.4*(1-0.25)*(1-0.35)\n",
    "P_1F_Bru_OBooked = 0.25*(1-0.4)*(1-0.35)\n",
    "P_1F_Cop_OBooked = 0.35*(1-0.25)*(1-0.35)"
   ]
  },
  {
   "cell_type": "code",
   "execution_count": 27,
   "metadata": {
    "ExecuteTime": {
     "end_time": "2020-06-25T08:59:59.870626Z",
     "start_time": "2020-06-25T08:59:59.866962Z"
    }
   },
   "outputs": [
    {
     "data": {
      "text/plain": [
       "0.463125"
      ]
     },
     "execution_count": 27,
     "metadata": {},
     "output_type": "execute_result"
    }
   ],
   "source": [
    "P_at_least_1F_Obooked = P_1F_Ams_OBooked + P_1F_Bru_OBooked + P_1F_Cop_OBooked\n",
    "P_at_least_1F_Obooked"
   ]
  },
  {
   "cell_type": "markdown",
   "metadata": {},
   "source": [
    "## Exercise 5\n",
    "You have three bags that each contain 100 marbles:\n",
    "\n",
    "- Bag 1 has 75 red and 25 blue marbles;\n",
    "- Bag 2 has 60 red and 40 blue marbles;\n",
    "- Bag 3 has 45 red and 55 blue marbles.\n",
    "\n",
    "You choose one of the bags at random and then pick a marble from the chosen bag, also at random. \n",
    "\n",
    "What is the probability that the chosen marble is red?\n"
   ]
  },
  {
   "cell_type": "code",
   "execution_count": 28,
   "metadata": {
    "ExecuteTime": {
     "end_time": "2020-06-25T09:05:07.685356Z",
     "start_time": "2020-06-25T09:05:07.680806Z"
    }
   },
   "outputs": [
    {
     "data": {
      "text/plain": [
       "0.5940000000000001"
      ]
     },
     "execution_count": 28,
     "metadata": {},
     "output_type": "execute_result"
    }
   ],
   "source": [
    "P_B1 = 0.75\n",
    "P_B2 = 0.6\n",
    "P_B3 = 0.45\n",
    "\n",
    "P_Red_B1 = 0.75 * 0.33\n",
    "P_Red_B2 = 0.6 * 0.33\n",
    "P_Red_B3 = 0.45 * 0.33\n",
    "\n",
    "P_Red = P_Red_B1 + P_Red_B2 + P_Red_B3\n",
    "P_Red"
   ]
  },
  {
   "cell_type": "markdown",
   "metadata": {},
   "source": [
    "## Summary \n",
    "\n",
    "In this lab, you practiced conditional probability and its theorem with some simple problems. The key takeaway from this lab is to be able to identify random events as dependent or independent and calculating the probability of their occurrence using appropriate methods. Next, you'll take this knowledge a step further and run simulations with conditional and total probability. "
   ]
  }
 ],
 "metadata": {
  "kernelspec": {
   "display_name": "learn-env",
   "language": "python",
   "name": "learn-env"
  },
  "language_info": {
   "codemirror_mode": {
    "name": "ipython",
    "version": 3
   },
   "file_extension": ".py",
   "mimetype": "text/x-python",
   "name": "python",
   "nbconvert_exporter": "python",
   "pygments_lexer": "ipython3",
   "version": "3.6.9"
  },
  "toc": {
   "base_numbering": 1,
   "nav_menu": {},
   "number_sections": true,
   "sideBar": true,
   "skip_h1_title": false,
   "title_cell": "Table of Contents",
   "title_sidebar": "Contents",
   "toc_cell": false,
   "toc_position": {},
   "toc_section_display": true,
   "toc_window_display": false
  },
  "varInspector": {
   "cols": {
    "lenName": 16,
    "lenType": 16,
    "lenVar": 40
   },
   "kernels_config": {
    "python": {
     "delete_cmd_postfix": "",
     "delete_cmd_prefix": "del ",
     "library": "var_list.py",
     "varRefreshCmd": "print(var_dic_list())"
    },
    "r": {
     "delete_cmd_postfix": ") ",
     "delete_cmd_prefix": "rm(",
     "library": "var_list.r",
     "varRefreshCmd": "cat(var_dic_list()) "
    }
   },
   "types_to_exclude": [
    "module",
    "function",
    "builtin_function_or_method",
    "instance",
    "_Feature"
   ],
   "window_display": false
  }
 },
 "nbformat": 4,
 "nbformat_minor": 2
}
